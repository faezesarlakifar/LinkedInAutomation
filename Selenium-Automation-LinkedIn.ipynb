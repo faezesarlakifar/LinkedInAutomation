{
 "cells": [
  {
   "attachments": {},
   "cell_type": "markdown",
   "metadata": {},
   "source": [
    "# Import Necessaries"
   ]
  },
  {
   "cell_type": "code",
   "execution_count": 5,
   "metadata": {},
   "outputs": [],
   "source": [
    "from selenium import webdriver\n",
    "from selenium.webdriver.common.keys import Keys\n",
    "from selenium.webdriver.common.by import By\n",
    "import time"
   ]
  },
  {
   "attachments": {},
   "cell_type": "markdown",
   "metadata": {},
   "source": [
    "# Login"
   ]
  },
  {
   "cell_type": "code",
   "execution_count": 4,
   "metadata": {},
   "outputs": [],
   "source": [
    "def login(username, password):\n",
    "    \n",
    "    driver = webdriver.Chrome()  # or webdriver.Chrome(), depending on your browser\n",
    "\n",
    "    driver.implicitly_wait(5)\n",
    "    driver.get(\"https://www.linkedin.com/login\")\n",
    "\n",
    "\n",
    "    username = driver.find_element(By.NAME, \"session_key\")\n",
    "    password = driver.find_element(By.NAME, \"session_password\")\n",
    "\n",
    "    username.send_keys(username)\n",
    "    password.send_keys(password)\n",
    "\n",
    "    password.send_keys(Keys.RETURN)\n",
    "    \n",
    "    return driver\n",
    "    "
   ]
  },
  {
   "attachments": {},
   "cell_type": "markdown",
   "metadata": {},
   "source": [
    "# Share a post"
   ]
  },
  {
   "cell_type": "code",
   "execution_count": 7,
   "metadata": {},
   "outputs": [],
   "source": [
    "def sharePost(driver, text):\n",
    "\n",
    "    post_box = driver.find_element(By.CSS_SELECTOR, '.artdeco-button.artdeco-button--muted.artdeco-button--4.artdeco-button--tertiary.ember-view.share-box-feed-entry__trigger')\n",
    "    # unittest.assertTrue(post_box.is_displayed())\n",
    "    # unittest.assertTrue(post_box.is_enabled())\n",
    "    post_box.click()\n",
    "\n",
    "    driver.implicitly_wait(5)\n",
    "    post_text_box = driver.find_element(By.CSS_SELECTOR,\".ql-editor.ql-blank\")\n",
    "\n",
    "\n",
    "    print('Typing...')\n",
    "    post_text_box.send_keys('This is an automated post!')\n",
    "    print('prepare to share post')\n",
    "\n",
    "    # Submit the post\n",
    "    time.sleep(5)\n",
    "    post_button = driver.find_element(By.CSS_SELECTOR,'.share-actions__primary-action.artdeco-button.artdeco-button--2.artdeco-button--primary.ember-view')\n",
    "\n",
    "    post_button.click()\n",
    "    print('Posted!')\n",
    "    \n",
    "    return driver"
   ]
  },
  {
   "attachments": {},
   "cell_type": "markdown",
   "metadata": {},
   "source": [
    "# Find users who have liked a post"
   ]
  },
  {
   "cell_type": "code",
   "execution_count": 8,
   "metadata": {},
   "outputs": [],
   "source": [
    "def FindUsers(driver):\n",
    "    likes_button = driver.find_element(By.CSS_SELECTOR, '.t-black--light.display-flex.social-details-social-counts__count-value.t-12.hoverable-link-text')\n",
    "    likes_button.click()\n",
    "\n",
    "    # Wait for the modal to appear\n",
    "    time.sleep(5)\n",
    "\n",
    "    # Find the list of users who liked the post\n",
    "    likes_list_names = driver.find_elements(By.CSS_SELECTOR, '.artdeco-entity-lockup__title.ember-view')\n",
    "    likes_list_Captions = driver.find_elements(By.CSS_SELECTOR, '.artdeco-entity-lockup__caption.ember-view')\n",
    "    for i in range(len(likes_list_Captions)):\n",
    "        print(likes_list_names[i].text + \" : \" + likes_list_Captions[i].text)\n",
    "        \n",
    "    return driver"
   ]
  }
 ],
 "metadata": {
  "kernelspec": {
   "display_name": "Python 3",
   "language": "python",
   "name": "python3"
  },
  "language_info": {
   "codemirror_mode": {
    "name": "ipython",
    "version": 3
   },
   "file_extension": ".py",
   "mimetype": "text/x-python",
   "name": "python",
   "nbconvert_exporter": "python",
   "pygments_lexer": "ipython3",
   "version": "3.9.12"
  },
  "orig_nbformat": 4
 },
 "nbformat": 4,
 "nbformat_minor": 2
}
