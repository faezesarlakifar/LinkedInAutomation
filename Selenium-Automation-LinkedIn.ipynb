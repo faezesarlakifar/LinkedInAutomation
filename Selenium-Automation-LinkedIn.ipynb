{
 "cells": [
  {
   "attachments": {},
   "cell_type": "markdown",
   "metadata": {},
   "source": [
    "# Import Necessaries"
   ]
  },
  {
   "cell_type": "code",
   "execution_count": null,
   "metadata": {},
   "outputs": [],
   "source": [
    "from selenium import webdriver\n",
    "from selenium.webdriver.common.keys import Keys\n",
    "from selenium.webdriver.common.by import By"
   ]
  },
  {
   "attachments": {},
   "cell_type": "markdown",
   "metadata": {},
   "source": [
    "# Login"
   ]
  },
  {
   "cell_type": "code",
   "execution_count": null,
   "metadata": {},
   "outputs": [],
   "source": [
    "def login(username, password):\n",
    "    \n",
    "    driver = webdriver.Chrome()  # or webdriver.Chrome(), depending on your browser\n",
    "\n",
    "    driver.implicitly_wait(5)\n",
    "    driver.get(\"https://www.linkedin.com/login\")\n",
    "\n",
    "\n",
    "    username = driver.find_element(By.NAME, \"session_key\")\n",
    "    password = driver.find_element(By.NAME, \"session_password\")\n",
    "\n",
    "    username.send_keys(username)\n",
    "    password.send_keys(password)\n",
    "\n",
    "    password.send_keys(Keys.RETURN)\n",
    "    "
   ]
  }
 ],
 "metadata": {
  "language_info": {
   "name": "python"
  },
  "orig_nbformat": 4
 },
 "nbformat": 4,
 "nbformat_minor": 2
}
